{
 "cells": [
  {
   "attachments": {},
   "cell_type": "markdown",
   "id": "df693600",
   "metadata": {},
   "source": [
    "# 4장. 가장 훌륭한 예측선"
   ]
  },
  {
   "attachments": {},
   "cell_type": "markdown",
   "id": "03fee64d",
   "metadata": {},
   "source": [
    "[<img src=\"https://raw.githubusercontent.com/taehojo/taehojo.github.io/master/assets/images/linktocolab.png\" align=\"left\"/> ](https://colab.research.google.com/github/taehojo/deeplearning/blob/master/colab/ch04-colab.ipynb)"
   ]
  },
  {
   "attachments": {},
   "cell_type": "markdown",
   "id": "cb4bb2c8",
   "metadata": {},
   "source": [
    "## 4. 파이썬 코딩으로 확인하는 최소 제곱"
   ]
  },
  {
   "attachments": {},
   "cell_type": "markdown",
   "id": "8ce90623",
   "metadata": {},
   "source": [
    "### 1. 환경 준비"
   ]
  },
  {
   "cell_type": "code",
   "execution_count": 3,
   "id": "86907981",
   "metadata": {},
   "outputs": [],
   "source": [
    "import numpy as np"
   ]
  },
  {
   "attachments": {},
   "cell_type": "markdown",
   "id": "26e7632f",
   "metadata": {},
   "source": [
    "### 2. 데이터 준비"
   ]
  },
  {
   "cell_type": "code",
   "execution_count": 4,
   "id": "a1678fe5",
   "metadata": {},
   "outputs": [],
   "source": [
    "#1차원 Numpy 배열을 생성한다. Numpy 배열은 배열 연산이나 다양한 수치 계산에 효율적으로 사용할 수 있다.\n",
    "# 공부한 시간과 점수를 각각 x, y라는 이름의 넘파이 배열로 만듭니다.\n",
    "x = np.array([2, 4, 6, 8])\n",
    "y = np.array([81, 93, 91, 97]) "
   ]
  },
  {
   "attachments": {},
   "cell_type": "markdown",
   "id": "2ad27943",
   "metadata": {},
   "source": [
    "#### [x와 y의 평균값]"
   ]
  },
  {
   "cell_type": "code",
   "execution_count": 5,
   "id": "ba68a3b7",
   "metadata": {},
   "outputs": [
    {
     "name": "stdout",
     "output_type": "stream",
     "text": [
      "x의 평균값: 5.0\n",
      "y의 평균값: 90.5\n"
     ]
    }
   ],
   "source": [
    "#x의 평균값을 구합니다.\n",
    "mx = np.mean(x)\n",
    "\n",
    "#y의 평균값을 구합니다.\n",
    "my = np.mean(y)\n",
    "\n",
    "# 출력으로 확인합니다.\n",
    "print(\"x의 평균값:\", mx)\n",
    "print(\"y의 평균값:\", my)"
   ]
  },
  {
   "attachments": {},
   "cell_type": "markdown",
   "id": "86e62f9d",
   "metadata": {},
   "source": [
    "#### [기울기 공식의 분모와 분자]"
   ]
  },
  {
   "cell_type": "code",
   "execution_count": 7,
   "id": "8ca14c62",
   "metadata": {},
   "outputs": [
    {
     "name": "stdout",
     "output_type": "stream",
     "text": [
      "분모: 20.0\n",
      "분자: 46.0\n"
     ]
    }
   ],
   "source": [
    "# 기울기 공식의 분모 부분입니다.\n",
    "# 최소 제곱법을 이용한 코드이다. x의 각 원소와 x의 평균값들의 차를 제곱한다. \n",
    "# for i in x는 x의 원소를 한번씩 i 자리에 대입하라는 의미이다. \n",
    "divisor = sum([(i - mx)**2 for i in x])\n",
    "\n",
    "# 기울기 공식의 분자 부분입니다.\n",
    "# 최소 제곱법의 분자식을 그대로 가져와 구현한 부분이다.\n",
    "# len은 리스트 안에 원소의 개수를 알려준다. len(x)는 4가 된다.\n",
    "# (x[i] - mx) * (y[i] - my)을 계산한 후, 그 결과들을 모두 더하여 d 변수에 누적한다. 그리고 함수는 d 값을 반환한다.\n",
    "# dividend 변수에 top() 함수를 호출하여 분자 부분의 값을 할당한다. 이때 x배열과 mx, y배열과 my를 인자로 전달한다.\n",
    "def top(x, mx, y, my):\n",
    "    d = 0\n",
    "    for i in range(len(x)):\n",
    "        d += (x[i] - mx) * (y[i] - my)\n",
    "    return d\n",
    "dividend = top(x, mx, y, my)\n",
    "\n",
    "# 출력으로 확인합니다.\n",
    "print(\"분모:\", divisor)\n",
    "print(\"분자:\", dividend)"
   ]
  },
  {
   "attachments": {},
   "cell_type": "markdown",
   "id": "c117d1fe",
   "metadata": {},
   "source": [
    "### 3. 기울기와 y 절편 구하기"
   ]
  },
  {
   "cell_type": "code",
   "execution_count": 5,
   "id": "0fa99a7d",
   "metadata": {},
   "outputs": [
    {
     "name": "stdout",
     "output_type": "stream",
     "text": [
      "기울기 a = 2.3\n",
      "y절편 b = 79.0\n"
     ]
    }
   ],
   "source": [
    "# 기울기 a를 구하는 공식입니다.\n",
    "a = dividend / divisor\n",
    "\n",
    "# y절편 b 를 구하는 공식입니다.\n",
    "b = my - (mx*a)\n",
    "\n",
    "# 출력으로 확인합니다.\n",
    "print(\"기울기 a =\", a)\n",
    "print(\"y절편 b =\", b)"
   ]
  },
  {
   "attachments": {},
   "cell_type": "markdown",
   "id": "4fb18def",
   "metadata": {},
   "source": [
    "## 6. 파이썬 코딩으로 확인하는 평균 제곱 오차"
   ]
  },
  {
   "attachments": {},
   "cell_type": "markdown",
   "id": "e03f22bc",
   "metadata": {},
   "source": [
    "### 1. 환경 준비"
   ]
  },
  {
   "cell_type": "code",
   "execution_count": 8,
   "id": "ef1960f8",
   "metadata": {},
   "outputs": [],
   "source": [
    "import numpy as np"
   ]
  },
  {
   "attachments": {},
   "cell_type": "markdown",
   "id": "d269ffc7",
   "metadata": {},
   "source": [
    "### 2. 데이터 준비"
   ]
  },
  {
   "cell_type": "code",
   "execution_count": 9,
   "id": "3aa4d4da",
   "metadata": {},
   "outputs": [],
   "source": [
    "#가상의 기울기 a와 y 절편 b를 정합니다.\n",
    "fake_a=3\n",
    "fake_b=76\n",
    "\n",
    "#공부 시간 x와 성적 y의 넘파이 배열을 만듭니다.\n",
    "x = np.array([2, 4, 6, 8])\n",
    "y = np.array([81, 93, 91, 97]) "
   ]
  },
  {
   "attachments": {},
   "cell_type": "markdown",
   "id": "5673ef31",
   "metadata": {},
   "source": [
    "### 3. 평균 제곱 오차 구하기"
   ]
  },
  {
   "cell_type": "code",
   "execution_count": 10,
   "id": "142745f3",
   "metadata": {},
   "outputs": [
    {
     "name": "stdout",
     "output_type": "stream",
     "text": [
      "공부시간=2, 실제점수=81, 예측점수=82\n",
      "공부시간=4, 실제점수=93, 예측점수=88\n",
      "공부시간=6, 실제점수=91, 예측점수=94\n",
      "공부시간=8, 실제점수=97, 예측점수=100\n"
     ]
    }
   ],
   "source": [
    "# y=ax + b에 가상의 a,b 값을 대입한 결과를 출력하는 함수입니다.\n",
    "def predict(x):\n",
    "    return fake_a * x + fake_b\n",
    "\n",
    "# 예측 값이 들어갈 빈 리스트를 만듭니다.\n",
    "predict_result = []\n",
    "\n",
    "# 모든 x값을 한 번씩 대입하여 predict_result 리스트를 완성합니다.\n",
    "# for 반복문을 사용하여 모든 x값에 대해 예측 값을 계산하고 출력한다. 반복문은 x배열의 길이만큼 반복하며, i는 반복의 인덱스를 나타낸다.\n",
    "for i in range(len(x)):\n",
    "    predict_result.append(predict(x[i]))\n",
    "    print(\"공부시간=%.f, 실제점수=%.f, 예측점수=%.f\" % (x[i], y[i], predict(x[i])))"
   ]
  },
  {
   "cell_type": "code",
   "execution_count": 12,
   "id": "c90e102f",
   "metadata": {},
   "outputs": [
    {
     "name": "stdout",
     "output_type": "stream",
     "text": [
      "평균 제곱 오차: 11.0\n"
     ]
    }
   ],
   "source": [
    "# 평균 제곱 오차 함수를 각 y값에 대입하여 최종 값을 구하는 함수입니다.\n",
    "# 변수 n에 x배열의 길이를 할당한다. 데이터의 개수를 의미한다.\n",
    "# mse() 함수를 정의한다. 이 함수는 주어진 실제값 y와 예측값 y_pred에 대해 평균 제곱 오차를 계산하여 반환한다. 평균 제곱 오차는 실제값과 예측값의 차이를 제곱하여 모두 더한 후, 데이터 개수 n으로 나눈 값이다.\n",
    "n=len(x)  \n",
    "def mse(y, y_pred):\n",
    "    return (1/n) * sum((y - y_pred)**2)\n",
    "\n",
    "# 평균 제곱 오차 값을 출력합니다.\n",
    "print(\"평균 제곱 오차: \" + str(mse(y,predict_result)))"
   ]
  }
 ],
 "metadata": {
  "kernelspec": {
   "display_name": "Python 3 (ipykernel)",
   "language": "python",
   "name": "python3"
  },
  "language_info": {
   "codemirror_mode": {
    "name": "ipython",
    "version": 3
   },
   "file_extension": ".py",
   "mimetype": "text/x-python",
   "name": "python",
   "nbconvert_exporter": "python",
   "pygments_lexer": "ipython3",
   "version": "3.11.3"
  }
 },
 "nbformat": 4,
 "nbformat_minor": 5
}
