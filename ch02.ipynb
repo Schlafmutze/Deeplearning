{
 "cells": [
  {
   "attachments": {},
   "cell_type": "markdown",
   "metadata": {},
   "source": [
    "# 2장. 딥러닝 핵심 미리보기"
   ]
  },
  {
   "attachments": {},
   "cell_type": "markdown",
   "metadata": {},
   "source": [
    "[<img src=\"https://raw.githubusercontent.com/taehojo/taehojo.github.io/master/assets/images/linktocolab.png\" align=\"left\"/> ](https://colab.research.google.com/github/taehojo/deeplearning/blob/master/colab/ch02-colab.ipynb)"
   ]
  },
  {
   "attachments": {},
   "cell_type": "markdown",
   "metadata": {},
   "source": [
    "## 나의 첫 딥러닝: '10장 폐암 수술 환자의 생존율 예측' 코드 미리보기"
   ]
  },
  {
   "attachments": {},
   "cell_type": "markdown",
   "metadata": {},
   "source": [
    "### 1. 환경 준비 "
   ]
  },
  {
   "cell_type": "code",
   "execution_count": 11,
   "metadata": {},
   "outputs": [],
   "source": [
    "# tensorflow.keras.models 경로에서 Sequential이라는 라이브러리를 불러온다.\n",
    "# Sequential은 순차적으로 레이어를 겹겹이 쌓아가는 방식으로 모델을 구성한다.\n",
    "from tensorflow.keras.models import Sequential  \n",
    "\n",
    "# tensorflow.keras.layers 경로에서 Dense라는 라이브러리를 불러온다.  \n",
    "# Dense는 밀집한 빽빽한이라는 뜻으로 각 층의 입력과 출력을 촘촘하게 모두 연결하라는 것이다.\n",
    "# fully connect Layer를 생성하는 역할로 이전 레이어의 모든 뉴런과 연결되어 있으며, 입력 값에 대한 가중치를 학습하여 출력값을 계산하는 역할을 한다.                                              \n",
    "from tensorflow.keras.layers import Dense\n",
    " \n",
    " \n",
    "# numpy는 수치연산을 할때 사용되는 라이브러리이다.\n",
    "# 다차원 배열과 행렬 연산에 편리한 기능을 제공한다.\n",
    "import numpy as np  "
   ]
  },
  {
   "attachments": {},
   "cell_type": "markdown",
   "metadata": {},
   "source": [
    "### 2. 데이터 준비"
   ]
  },
  {
   "cell_type": "code",
   "execution_count": 12,
   "metadata": {},
   "outputs": [],
   "source": [
    "# np.loadtxt() 함수를 사용하여 csv파일을 로드한다.\n",
    "# delimiter=\",\" 매개변수를 사용하여 데이터를 구분하는 구분자를 쉼표로 지정한다.\n",
    "# CSV는 Comma Seperated Value의 약자로 쉼표로 분리된 텍스트 파일입니다.\n",
    "Data_set = np.loadtxt(\"C:/Users/rlaco/OneDrive/바탕 화면/Languege/인공지능/deeplearning-master/data/ThoraricSurgery3.csv\", delimiter=\",\") \n",
    "\n",
    "# Data_set 변수에서 0부터 15열까지의 열을 슬라이싱하여 입력테이터 X로 지정한다. ':'는 모든 행을 뜻하고, '0:16'은 0부터 15까지의 열을 뜻한다.\n",
    "X = Data_set[:,0:16]                                                 # 환자의 진찰 기록을 X로 지정합니다.\n",
    "\n",
    "# Data_set 변수에서 16번째 열을 선택하여 대상 데이터 y로 지정한다.\n",
    "y = Data_set[:,16]                                                   # 수술 후 사망/생존 여부를 y로 지정합니다."
   ]
  },
  {
   "attachments": {},
   "cell_type": "markdown",
   "metadata": {},
   "source": [
    "### 3. 구조 결정 "
   ]
  },
  {
   "cell_type": "code",
   "execution_count": 13,
   "metadata": {},
   "outputs": [],
   "source": [
    "model = Sequential()    # 딥러닝 모델의 구조를 Sequential로 결정합니다.\n",
    "\n",
    "# model.add 메소드를 사용하기 위해서 Dense 레이어를 모델에 추가한다.\n",
    "# 30은 레이어의 출력 공간 차원을 뜻한다. 이 레어이는 30개의 뉴런으로 구성되어있다.\n",
    "# input_dim=16은 입력 데이터의 차원이 16개임을 뜻한다. \n",
    "# relu는 활성화 함수로 입력값이 양수인 경우에는 그 값을 그대로 출력하고 음수인 경우에는 0을 출력하는 비선형 함수이다. \n",
    "model.add(Dense(30, input_dim=16, activation='relu'))\n",
    "\n",
    "# sigmoid 함수는 출력값을 0과 1사이로 제한하여 이진 분류 문제에 적합한 활성화 함수이다. \n",
    "model.add(Dense(1, activation='sigmoid'))"
   ]
  },
  {
   "attachments": {},
   "cell_type": "markdown",
   "metadata": {},
   "source": [
    "### 4. 모델 실행 "
   ]
  },
  {
   "cell_type": "code",
   "execution_count": 14,
   "metadata": {},
   "outputs": [
    {
     "name": "stdout",
     "output_type": "stream",
     "text": [
      "Epoch 1/5\n",
      "30/30 [==============================] - 1s 3ms/step - loss: 0.8808 - accuracy: 0.8511\n",
      "Epoch 2/5\n",
      "30/30 [==============================] - 0s 3ms/step - loss: 0.4385 - accuracy: 0.8532\n",
      "Epoch 3/5\n",
      "30/30 [==============================] - 0s 3ms/step - loss: 0.4314 - accuracy: 0.8511\n",
      "Epoch 4/5\n",
      "30/30 [==============================] - 0s 3ms/step - loss: 0.4243 - accuracy: 0.8532\n",
      "Epoch 5/5\n",
      "30/30 [==============================] - 0s 3ms/step - loss: 0.4381 - accuracy: 0.8468\n"
     ]
    }
   ],
   "source": [
    "# model.compile이라는 메소드를 사용해 모델을 컴파일한다. 이 메소드의 매개변수로는 loss, optimizer, metrics가 있다.\n",
    "# loss='binary_crossentropy'는 손실함수로 이진 분류 문제에서 주로 사용하며, 실제 값과 예측 값 사이의 오차를 계산하여 모델을 학습시킨다.\n",
    "# optimizer='adam'은 최적화 알고리즘으로 adam을 사용한다. adam은 학습속도를 조절하면서 최적의 가중치를 찾아가는 알고리즘이다.\n",
    "# metrics=['accuracy']에서 metrics는 모델 성능을 평가하기 위한 지표이다. 평가 지표로 정확도를 사용한다. 정확도는 모델의 예측이 실제값과 얼마나 일치하는지 측정하는 지표이다.\n",
    "model.compile(loss='binary_crossentropy', optimizer='adam', metrics=['accuracy'])  # 딥러닝 모델을 실행합니다.\n",
    "\n",
    "# model.fit은 입력 데이터X와 정답 레이블 y를 사용하여 모델을 학습 시키는 역할을 한다.\n",
    "# epochs=5는 전체 데이터셋에 대해 학습을 반복하는 횟수를 5번으로 지정하겠다는 의미이다. 각 epochs는 전체 데이터셋을 한 번씩 학습하는 것을 의미한다.\n",
    "# batch_size=16은 한 번의 학습 단계에서 사용할 데이터 샘플 갯수를 16개로 지정하겠다는 뜻이다. 한 번의 epochs가 끝날때마다 가중치를 업데이트하는데 16개의 샘플을 사용한다.\n",
    "history=model.fit(X, y, epochs=5, batch_size=16)"
   ]
  },
  {
   "cell_type": "code",
   "execution_count": null,
   "metadata": {},
   "outputs": [],
   "source": []
  }
 ],
 "metadata": {
  "kernelspec": {
   "display_name": "Python 3 (ipykernel)",
   "language": "python",
   "name": "python3"
  },
  "language_info": {
   "codemirror_mode": {
    "name": "ipython",
    "version": 3
   },
   "file_extension": ".py",
   "mimetype": "text/x-python",
   "name": "python",
   "nbconvert_exporter": "python",
   "pygments_lexer": "ipython3",
   "version": "3.9.7"
  }
 },
 "nbformat": 4,
 "nbformat_minor": 2
}
